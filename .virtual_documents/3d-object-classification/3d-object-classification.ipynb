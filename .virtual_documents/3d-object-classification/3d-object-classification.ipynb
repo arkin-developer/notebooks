











# 安装必要的依赖包
%pip install datasets
%pip install open3d
%pip install matplotlib
%pip install numpy
%pip install plotly
%pip install trimesh



# 导入必要的库
import numpy as np
import matplotlib.pyplot as plt
import plotly.graph_objects as go
import plotly.express as px
from datasets import load_dataset
import os
from collections import Counter






# 从Hugging Face下载ModelNet40数据集
print("正在从Hugging Face下载ModelNet40数据集...")

# 使用jxie/modelnet40数据集
dataset = load_dataset("jxie/modelnet40")

print("数据集下载完成！")
print(f"数据集结构: {dataset}")
print(f"训练集大小: {len(dataset['train'])}")
print(f"测试集大小: {len(dataset['test'])}")



# 查看数据集基本信息
print("=== 数据集基本信息 ===")
print(f"数据集分割: {list(dataset.keys())}")
print(f"训练集: {len(dataset['train'])} 样本")
print(f"测试集: {len(dataset['test'])} 样本")

# 查看样本结构
sample = dataset['train'][0]
print(f"\n样本结构:")
print(f"  字段: {list(sample.keys())}")
print(f"  点云数据: {len(sample['inputs'])} 个点，每个点 {len(sample['inputs'][0])} 维")
print(f"  标签: {sample['label']}")



# 定义ModelNet40的40个类别名称
modelnet40_classes = [
    'airplane', 'bathtub', 'bed', 'bench', 'bookshelf', 'bottle', 'bowl', 'car', 'chair',
    'cone', 'cup', 'curtain', 'desk', 'door', 'dresser', 'flower_pot', 'glass_box',
    'guitar', 'keyboard', 'lamp', 'laptop', 'mantel', 'monitor', 'night_stand',
    'person', 'piano', 'plant', 'radio', 'range_hood', 'sink', 'sofa', 'stairs',
    'stool', 'table', 'tent', 'toilet', 'tv_stand', 'vase', 'wardrobe', 'xbox'
]

print("=== ModelNet40类别信息 ===")
print(f"总类别数: {len(modelnet40_classes)}")
print(f"前10个类别: {modelnet40_classes[:10]}")

# 创建标签映射
label_to_class = {i: class_name for i, class_name in enumerate(modelnet40_classes)}
print(f"\n标签映射示例:")
print(f"标签 0 -> {label_to_class[0]}")
print(f"标签 5 -> {label_to_class[5]}")
print(f"标签 39 -> {label_to_class[39]}")



# 查看数据集特征和样本示例
print("=== 数据集特征信息 ===")
print(f"特征字段: {dataset['train'].features}")
print(f"样本示例: {dataset['train'][0]}")

# 查看一个具体样本的点云数据
sample = dataset['train'][0]
points = np.array(sample['inputs'])
print(f"\n点云数据示例:")
print(f"  形状: {points.shape}")
print(f"  前3个点: {points[:3]}")
print(f"  数据范围: [{points.min():.3f}, {points.max():.3f}]")






# 数据预处理函数
def preprocess_point_cloud(points, num_points=1024):
    """
    预处理点云数据
    Args:
        points: 原始点云数据 (N, 3)
        num_points: 目标点数
    Returns:
        处理后的点云数据
    """
    # 随机采样到固定点数
    if len(points) > num_points:
        indices = np.random.choice(len(points), num_points, replace=False)
        points = points[indices]
    elif len(points) < num_points:
        # 如果点数不足，随机重复采样
        indices = np.random.choice(len(points), num_points, replace=True)
        points = points[indices]
    
    # 归一化到单位球
    centroid = np.mean(points, axis=0)
    points = points - centroid
    max_dist = np.max(np.linalg.norm(points, axis=1))
    points = points / max_dist
    
    return points

# 测试数据预处理
sample_data = dataset['train'][0]
points = np.array(sample_data['inputs'])
print("原始数据示例:")
print(f"点云形状: {points.shape}")
print(f"标签: {sample_data['label']} -> {label_to_class[sample_data['label']]}")

# 预处理示例数据
processed_points = preprocess_point_cloud(points)
print(f"\n预处理后点云形状: {processed_points.shape}")
print(f"点云范围: [{processed_points.min():.3f}, {processed_points.max():.3f}]")






# 使用Plotly进行3D点云可视化
def visualize_point_cloud_plotly(points, title="3D Point Cloud", colors=None):
    """
    使用Plotly可视化3D点云
    Args:
        points: 点云数据 (N, 3)
        title: 图表标题
        colors: 颜色数组，可选
    """
    if colors is None:
        colors = points[:, 2]  # 使用Z坐标作为颜色
    
    fig = go.Figure(data=[go.Scatter3d(
        x=points[:, 0],
        y=points[:, 1], 
        z=points[:, 2],
        mode='markers',
        marker=dict(
            size=2,
            color=colors,
            colorscale='Viridis',
            opacity=0.8
        ),
        text=[f'Point {i}' for i in range(len(points))],
        hovertemplate='X: %{x}<br>Y: %{y}<br>Z: %{z}<extra></extra>'
    )])
    
    fig.update_layout(
        title=title,
        scene=dict(
            xaxis_title='X',
            yaxis_title='Y',
            zaxis_title='Z',
            aspectmode='cube'
        ),
        width=800,
        height=600
    )
    
    return fig

# 可视化几个不同类别的样本
print("正在生成3D可视化...")

# 选择几个不同类别的样本进行展示
sample_indices = [0, 100, 200, 300, 400]  # 选择5个样本
figs = []

for i, idx in enumerate(sample_indices):
    sample = dataset['train'][idx]
    points = np.array(sample['inputs'])
    processed_points = preprocess_point_cloud(points)
    class_name = label_to_class[sample['label']]
    
    fig = visualize_point_cloud_plotly(
        processed_points, 
        title=f"样本 {i+1}: {class_name} (标签: {sample['label']})"
    )
    figs.append(fig)

# 显示第一个样本
print("显示第一个3D样本:")
figs[0].show()



# 使用Matplotlib进行2D投影可视化
def visualize_point_cloud_2d(points, title="2D Projection", ax=None):
    """
    使用Matplotlib可视化3D点云的2D投影
    Args:
        points: 点云数据 (N, 3)
        title: 图表标题
        ax: matplotlib轴对象
    """
    if ax is None:
        fig, ax = plt.subplots(1, 1, figsize=(8, 6))
    
    # XY平面投影
    ax.scatter(points[:, 0], points[:, 1], c=points[:, 2], 
               cmap='viridis', s=1, alpha=0.6)
    ax.set_xlabel('X')
    ax.set_ylabel('Y')
    ax.set_title(title)
    ax.grid(True, alpha=0.3)
    ax.set_aspect('equal')
    
    return ax

# 创建多个子图展示不同类别的样本
fig, axes = plt.subplots(2, 3, figsize=(15, 10))
axes = axes.flatten()

print("生成2D投影可视化...")

for i, idx in enumerate(sample_indices[:6]):  # 显示前6个样本
    sample = dataset['train'][idx]
    points = np.array(sample['inputs'])
    processed_points = preprocess_point_cloud(points)
    class_name = label_to_class[sample['label']]
    
    visualize_point_cloud_2d(
        processed_points, 
        title=f"{class_name} (标签: {sample['label']})",
        ax=axes[i]
    )

# 隐藏多余的子图
for i in range(len(sample_indices), len(axes)):
    axes[i].set_visible(False)

plt.tight_layout()
plt.show()







